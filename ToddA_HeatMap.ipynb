{
  "nbformat": 4,
  "nbformat_minor": 0,
  "metadata": {
    "colab": {
      "name": "ToddA_HeatMap.ipynb",
      "provenance": [],
      "authorship_tag": "ABX9TyPm+ofyW5fkIS+TqPKe0HWY",
      "include_colab_link": true
    },
    "kernelspec": {
      "name": "python3",
      "display_name": "Python 3"
    },
    "language_info": {
      "name": "python"
    }
  },
  "cells": [
    {
      "cell_type": "markdown",
      "metadata": {
        "id": "view-in-github",
        "colab_type": "text"
      },
      "source": [
        "<a href=\"https://colab.research.google.com/github/ToddAbrahamII/IT_262_Code/blob/main/ToddA_HeatMap.ipynb\" target=\"_parent\"><img src=\"https://colab.research.google.com/assets/colab-badge.svg\" alt=\"Open In Colab\"/></a>"
      ]
    },
    {
      "cell_type": "code",
      "execution_count": 2,
      "metadata": {
        "id": "qt2QWuLRWgAi"
      },
      "outputs": [],
      "source": [
        "import seaborn as sns\n",
        "import pandas as pd\n",
        "import numpy as np\n",
        "\n",
        "df = pd.DataFrame(columns=['risk','likelihood','impact','score'])"
      ]
    },
    {
      "cell_type": "code",
      "source": [
        "df['risk']=['users','team','budget','security']"
      ],
      "metadata": {
        "id": "hcOrnMl3YNc9"
      },
      "execution_count": 3,
      "outputs": []
    },
    {
      "cell_type": "code",
      "source": [
        "df['likelihood']=[0.2,0.3,0.1,0.5]"
      ],
      "metadata": {
        "id": "1sdKRm1NYZS1"
      },
      "execution_count": 4,
      "outputs": []
    },
    {
      "cell_type": "code",
      "source": [
        "df['impact']=[1,2,7,10]\n",
        "df['score']=df['impact']*df['likelihood']\n"
      ],
      "metadata": {
        "id": "-kfDoPYPYiYG"
      },
      "execution_count": 8,
      "outputs": []
    },
    {
      "cell_type": "code",
      "source": [
        "scoresPivot=df.pivot('impact','likelihood','score')\n",
        "print(scoresPivot)\n",
        "\n",
        "#adds seperation between charts\n",
        "print()\n",
        "\n",
        "labelsPivot=df.pivot('impact','likelihood','risk')\n",
        "\n",
        "labelsPivot.fillna('',inplace=True)\n",
        "print(labelsPivot)\n",
        "\n",
        "#adds seperation between heatmap and chart\n",
        "print()\n",
        "p1=sns.heatmap(scoresPivot,annot=labelsPivot, cmap=\"YlOrRd\", fmt='')\n"
      ],
      "metadata": {
        "colab": {
          "base_uri": "https://localhost:8080/",
          "height": 526
        },
        "id": "IBqkh0agZXvb",
        "outputId": "3891f805-4105-46f5-a38e-e7c66ed51749"
      },
      "execution_count": 23,
      "outputs": [
        {
          "output_type": "stream",
          "name": "stdout",
          "text": [
            "likelihood  0.1  0.2  0.3  0.5\n",
            "impact                        \n",
            "1           NaN  0.2  NaN  NaN\n",
            "2           NaN  NaN  0.6  NaN\n",
            "7           0.7  NaN  NaN  NaN\n",
            "10          NaN  NaN  NaN  5.0\n",
            "\n",
            "likelihood     0.1    0.2   0.3       0.5\n",
            "impact                                   \n",
            "1                   users                \n",
            "2                          team          \n",
            "7           budget                       \n",
            "10                               security\n",
            "\n"
          ]
        },
        {
          "output_type": "display_data",
          "data": {
            "image/png": "[encoded data removed]",
            "text/plain": [
              "<Figure size 432x288 with 2 Axes>"
            ]
          },
          "metadata": {
            "needs_background": "light"
          }
        }
      ]
    }
  ]
}