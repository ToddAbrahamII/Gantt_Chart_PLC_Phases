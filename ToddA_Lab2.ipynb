{
  "nbformat": 4,
  "nbformat_minor": 0,
  "metadata": {
    "colab": {
      "name": "ToddA_Lab2.ipynb",
      "provenance": [],
      "mount_file_id": "1eWAhhY_o8-RNS_jADLO6SwOgXnbrxkOH",
      "authorship_tag": "ABX9TyMkQ2Kb5Y+IZrtqRC4E6D6G",
      "include_colab_link": true
    },
    "kernelspec": {
      "name": "python3",
      "display_name": "Python 3"
    },
    "language_info": {
      "name": "python"
    }
  },
  "cells": [
    {
      "cell_type": "markdown",
      "metadata": {
        "id": "view-in-github",
        "colab_type": "text"
      },
      "source": [
        "<a href=\"https://colab.research.google.com/github/ToddAbrahamII/IT_262_Code/blob/main/ToddA_Lab2.ipynb\" target=\"_parent\"><img src=\"https://colab.research.google.com/assets/colab-badge.svg\" alt=\"Open In Colab\"/></a>"
      ]
    },
    {
      "cell_type": "code",
      "source": [
        "from google.colab import drive\n",
        "drive.mount('/content/drive')"
      ],
      "metadata": {
        "colab": {
          "base_uri": "https://localhost:8080/"
        },
        "id": "s1YD1PMxr0Mk",
        "outputId": "c57be684-be4c-4900-aa28-9c797374b8e8"
      },
      "execution_count": null,
      "outputs": [
        {
          "output_type": "stream",
          "name": "stdout",
          "text": [
            "Drive already mounted at /content/drive; to attempt to forcibly remount, call drive.mount(\"/content/drive\", force_remount=True).\n"
          ]
        }
      ]
    },
    {
      "cell_type": "code",
      "source": [
        "import pandas as pd\n",
        "import math\n",
        "\n",
        "#reading data into a pandas dataframe\n",
        "\n",
        "dataT=pd.read_csv('/content/drive/MyDrive/262-CBA.csv')\n",
        "#directory in my drive was different than code provided, that is why the path is altered\n",
        "#Original path was '/content/drive/MyDrive/262/262-SP22/262-CBA.csv'\n",
        "\n",
        "print(dataT)"
      ],
      "metadata": {
        "colab": {
          "base_uri": "https://localhost:8080/"
        },
        "id": "K9nF275Tr-uC",
        "outputId": "5b190687-67d9-4b83-a005-3b42ffce4a8f"
      },
      "execution_count": null,
      "outputs": [
        {
          "output_type": "stream",
          "name": "stdout",
          "text": [
            "   years  developmentCost  operationalCost  valueOfBenefits\n",
            "0      0             -100                0                0\n",
            "1      1              -30              -10               25\n",
            "2      2                0              -15               55\n",
            "3      3                0              -15               85\n"
          ]
        }
      ]
    },
    {
      "cell_type": "code",
      "source": [
        "discountRate=0.05\n",
        "#the compounding discount over the years\n",
        "\n",
        "discountFactor=[0,0,0,0]\n",
        "#creates list of 4 elements of 0\n",
        "\n",
        "for year in dataT['years']:\n",
        "  discountFactor[year]=1/math.pow(1+discountRate,year)\n",
        "\n",
        "dataT['discountFactor'] = [round(num,2) for num in discountFactor]\n",
        "\n",
        "print (dataT)"
      ],
      "metadata": {
        "colab": {
          "base_uri": "https://localhost:8080/"
        },
        "id": "PYVfHrsXtTnv",
        "outputId": "e4662480-df85-4422-9ae5-01096cd204fa"
      },
      "execution_count": null,
      "outputs": [
        {
          "output_type": "stream",
          "name": "stdout",
          "text": [
            "   years  developmentCost  operationalCost  ...  discountFactor  NetBC     NPV\n",
            "0      0             -100                0  ...            1.00   -100 -100.00\n",
            "1      1              -30              -10  ...            0.95    -15  -14.25\n",
            "2      2                0              -15  ...            0.91     40   36.40\n",
            "3      3                0              -15  ...            0.86     70   60.20\n",
            "\n",
            "[4 rows x 7 columns]\n"
          ]
        }
      ]
    },
    {
      "cell_type": "code",
      "source": [
        "#calculate Net benefit/cost for each year\n",
        "#sums all of them\n",
        "\n",
        "NetBC=[0,0,0,0]\n",
        "#intial list of 4, years 0-4\n",
        "\n",
        "for year in dataT['years']:\n",
        "  NetBC[year] = dataT['developmentCost'][year]+dataT['operationalCost'][year]+dataT['valueOfBenefits'][year]\n",
        "\n",
        "dataT['NetBC']=NetBC\n",
        "print(dataT)"
      ],
      "metadata": {
        "colab": {
          "base_uri": "https://localhost:8080/"
        },
        "id": "baQwJJSevl59",
        "outputId": "0450da6e-a993-469a-cb8a-873a68b7ec9e"
      },
      "execution_count": null,
      "outputs": [
        {
          "output_type": "stream",
          "name": "stdout",
          "text": [
            "   years  developmentCost  ...  discountFactor  NetBC\n",
            "0      0             -100  ...            1.00   -100\n",
            "1      1              -30  ...            0.95    -15\n",
            "2      2                0  ...            0.91     40\n",
            "3      3                0  ...            0.86     70\n",
            "\n",
            "[4 rows x 6 columns]\n"
          ]
        }
      ]
    },
    {
      "cell_type": "code",
      "source": [
        "#calculate net present value\n",
        "\n",
        "NPV = [0,0,0,0]\n",
        "\n",
        "for year in dataT['years']:\n",
        "  NPV[year]=dataT['NetBC'][year]*dataT['discountFactor'][year]\n",
        "\n",
        "dataT['NPV']=[round(num,2) for num in NPV]\n",
        "print(dataT)"
      ],
      "metadata": {
        "colab": {
          "base_uri": "https://localhost:8080/"
        },
        "id": "cwU7rxXMxnXR",
        "outputId": "c36b96ff-9111-49a4-e1c8-b468753dc6f4"
      },
      "execution_count": null,
      "outputs": [
        {
          "output_type": "stream",
          "name": "stdout",
          "text": [
            "   years  developmentCost  operationalCost  ...  discountFactor  NetBC     NPV\n",
            "0      0             -100                0  ...            1.00   -100 -100.00\n",
            "1      1              -30              -10  ...            0.95    -15  -14.25\n",
            "2      2                0              -15  ...            0.91     40   36.40\n",
            "3      3                0              -15  ...            0.86     70   60.20\n",
            "\n",
            "[4 rows x 7 columns]\n"
          ]
        }
      ]
    }
  ]
}